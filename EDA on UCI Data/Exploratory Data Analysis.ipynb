{
 "cells": [
  {
   "cell_type": "markdown",
   "id": "e3b3fa33",
   "metadata": {},
   "source": [
    "## 1. Dataset Selection:"
   ]
  },
  {
   "cell_type": "code",
   "execution_count": 60,
   "id": "b352142c",
   "metadata": {},
   "outputs": [],
   "source": [
    "#Importing the relevant libraries\n",
    "import pandas as pd\n",
    "import matplotlib.pyplot as plt"
   ]
  },
  {
   "cell_type": "code",
   "execution_count": 4,
   "id": "4b5ac81c",
   "metadata": {},
   "outputs": [
    {
     "name": "stdout",
     "output_type": "stream",
     "text": [
      "   encounter_id  patient_nbr             race  gender      age weight  \\\n",
      "0       2278392      8222157        Caucasian  Female   [0-10)      ?   \n",
      "1        149190     55629189        Caucasian  Female  [10-20)      ?   \n",
      "2         64410     86047875  AfricanAmerican  Female  [20-30)      ?   \n",
      "3        500364     82442376        Caucasian    Male  [30-40)      ?   \n",
      "4         16680     42519267        Caucasian    Male  [40-50)      ?   \n",
      "\n",
      "   admission_type_id  discharge_disposition_id  admission_source_id  \\\n",
      "0                  6                        25                    1   \n",
      "1                  1                         1                    7   \n",
      "2                  1                         1                    7   \n",
      "3                  1                         1                    7   \n",
      "4                  1                         1                    7   \n",
      "\n",
      "   time_in_hospital  ... citoglipton insulin  glyburide-metformin  \\\n",
      "0                 1  ...          No      No                   No   \n",
      "1                 3  ...          No      Up                   No   \n",
      "2                 2  ...          No      No                   No   \n",
      "3                 2  ...          No      Up                   No   \n",
      "4                 1  ...          No  Steady                   No   \n",
      "\n",
      "   glipizide-metformin  glimepiride-pioglitazone  metformin-rosiglitazone  \\\n",
      "0                   No                        No                       No   \n",
      "1                   No                        No                       No   \n",
      "2                   No                        No                       No   \n",
      "3                   No                        No                       No   \n",
      "4                   No                        No                       No   \n",
      "\n",
      "   metformin-pioglitazone  change diabetesMed readmitted  \n",
      "0                      No      No          No         NO  \n",
      "1                      No      Ch         Yes        >30  \n",
      "2                      No      No         Yes         NO  \n",
      "3                      No      Ch         Yes         NO  \n",
      "4                      No      Ch         Yes         NO  \n",
      "\n",
      "[5 rows x 50 columns]\n"
     ]
    }
   ],
   "source": [
    "#Reading the diabetic dataset from the UCI Archive\n",
    "data = pd.read_csv(\"diabetic_data.csv\")\n",
    "print(data.head())"
   ]
  },
  {
   "cell_type": "code",
   "execution_count": 3,
   "id": "b5e199f6",
   "metadata": {},
   "outputs": [
    {
     "data": {
      "text/html": [
       "<div>\n",
       "<style scoped>\n",
       "    .dataframe tbody tr th:only-of-type {\n",
       "        vertical-align: middle;\n",
       "    }\n",
       "\n",
       "    .dataframe tbody tr th {\n",
       "        vertical-align: top;\n",
       "    }\n",
       "\n",
       "    .dataframe thead th {\n",
       "        text-align: right;\n",
       "    }\n",
       "</style>\n",
       "<table border=\"1\" class=\"dataframe\">\n",
       "  <thead>\n",
       "    <tr style=\"text-align: right;\">\n",
       "      <th></th>\n",
       "      <th>encounter_id</th>\n",
       "      <th>patient_nbr</th>\n",
       "      <th>admission_type_id</th>\n",
       "      <th>discharge_disposition_id</th>\n",
       "      <th>admission_source_id</th>\n",
       "      <th>time_in_hospital</th>\n",
       "      <th>num_lab_procedures</th>\n",
       "      <th>num_procedures</th>\n",
       "      <th>num_medications</th>\n",
       "      <th>number_outpatient</th>\n",
       "      <th>number_emergency</th>\n",
       "      <th>number_inpatient</th>\n",
       "      <th>number_diagnoses</th>\n",
       "    </tr>\n",
       "  </thead>\n",
       "  <tbody>\n",
       "    <tr>\n",
       "      <th>count</th>\n",
       "      <td>1.017660e+05</td>\n",
       "      <td>1.017660e+05</td>\n",
       "      <td>101766.000000</td>\n",
       "      <td>101766.000000</td>\n",
       "      <td>101766.000000</td>\n",
       "      <td>101766.000000</td>\n",
       "      <td>101766.000000</td>\n",
       "      <td>101766.000000</td>\n",
       "      <td>101766.000000</td>\n",
       "      <td>101766.000000</td>\n",
       "      <td>101766.000000</td>\n",
       "      <td>101766.000000</td>\n",
       "      <td>101766.000000</td>\n",
       "    </tr>\n",
       "    <tr>\n",
       "      <th>mean</th>\n",
       "      <td>1.652016e+08</td>\n",
       "      <td>5.433040e+07</td>\n",
       "      <td>2.024006</td>\n",
       "      <td>3.715642</td>\n",
       "      <td>5.754437</td>\n",
       "      <td>4.395987</td>\n",
       "      <td>43.095641</td>\n",
       "      <td>1.339730</td>\n",
       "      <td>16.021844</td>\n",
       "      <td>0.369357</td>\n",
       "      <td>0.197836</td>\n",
       "      <td>0.635566</td>\n",
       "      <td>7.422607</td>\n",
       "    </tr>\n",
       "    <tr>\n",
       "      <th>std</th>\n",
       "      <td>1.026403e+08</td>\n",
       "      <td>3.869636e+07</td>\n",
       "      <td>1.445403</td>\n",
       "      <td>5.280166</td>\n",
       "      <td>4.064081</td>\n",
       "      <td>2.985108</td>\n",
       "      <td>19.674362</td>\n",
       "      <td>1.705807</td>\n",
       "      <td>8.127566</td>\n",
       "      <td>1.267265</td>\n",
       "      <td>0.930472</td>\n",
       "      <td>1.262863</td>\n",
       "      <td>1.933600</td>\n",
       "    </tr>\n",
       "    <tr>\n",
       "      <th>min</th>\n",
       "      <td>1.252200e+04</td>\n",
       "      <td>1.350000e+02</td>\n",
       "      <td>1.000000</td>\n",
       "      <td>1.000000</td>\n",
       "      <td>1.000000</td>\n",
       "      <td>1.000000</td>\n",
       "      <td>1.000000</td>\n",
       "      <td>0.000000</td>\n",
       "      <td>1.000000</td>\n",
       "      <td>0.000000</td>\n",
       "      <td>0.000000</td>\n",
       "      <td>0.000000</td>\n",
       "      <td>1.000000</td>\n",
       "    </tr>\n",
       "    <tr>\n",
       "      <th>25%</th>\n",
       "      <td>8.496119e+07</td>\n",
       "      <td>2.341322e+07</td>\n",
       "      <td>1.000000</td>\n",
       "      <td>1.000000</td>\n",
       "      <td>1.000000</td>\n",
       "      <td>2.000000</td>\n",
       "      <td>31.000000</td>\n",
       "      <td>0.000000</td>\n",
       "      <td>10.000000</td>\n",
       "      <td>0.000000</td>\n",
       "      <td>0.000000</td>\n",
       "      <td>0.000000</td>\n",
       "      <td>6.000000</td>\n",
       "    </tr>\n",
       "    <tr>\n",
       "      <th>50%</th>\n",
       "      <td>1.523890e+08</td>\n",
       "      <td>4.550514e+07</td>\n",
       "      <td>1.000000</td>\n",
       "      <td>1.000000</td>\n",
       "      <td>7.000000</td>\n",
       "      <td>4.000000</td>\n",
       "      <td>44.000000</td>\n",
       "      <td>1.000000</td>\n",
       "      <td>15.000000</td>\n",
       "      <td>0.000000</td>\n",
       "      <td>0.000000</td>\n",
       "      <td>0.000000</td>\n",
       "      <td>8.000000</td>\n",
       "    </tr>\n",
       "    <tr>\n",
       "      <th>75%</th>\n",
       "      <td>2.302709e+08</td>\n",
       "      <td>8.754595e+07</td>\n",
       "      <td>3.000000</td>\n",
       "      <td>4.000000</td>\n",
       "      <td>7.000000</td>\n",
       "      <td>6.000000</td>\n",
       "      <td>57.000000</td>\n",
       "      <td>2.000000</td>\n",
       "      <td>20.000000</td>\n",
       "      <td>0.000000</td>\n",
       "      <td>0.000000</td>\n",
       "      <td>1.000000</td>\n",
       "      <td>9.000000</td>\n",
       "    </tr>\n",
       "    <tr>\n",
       "      <th>max</th>\n",
       "      <td>4.438672e+08</td>\n",
       "      <td>1.895026e+08</td>\n",
       "      <td>8.000000</td>\n",
       "      <td>28.000000</td>\n",
       "      <td>25.000000</td>\n",
       "      <td>14.000000</td>\n",
       "      <td>132.000000</td>\n",
       "      <td>6.000000</td>\n",
       "      <td>81.000000</td>\n",
       "      <td>42.000000</td>\n",
       "      <td>76.000000</td>\n",
       "      <td>21.000000</td>\n",
       "      <td>16.000000</td>\n",
       "    </tr>\n",
       "  </tbody>\n",
       "</table>\n",
       "</div>"
      ],
      "text/plain": [
       "       encounter_id   patient_nbr  admission_type_id  \\\n",
       "count  1.017660e+05  1.017660e+05      101766.000000   \n",
       "mean   1.652016e+08  5.433040e+07           2.024006   \n",
       "std    1.026403e+08  3.869636e+07           1.445403   \n",
       "min    1.252200e+04  1.350000e+02           1.000000   \n",
       "25%    8.496119e+07  2.341322e+07           1.000000   \n",
       "50%    1.523890e+08  4.550514e+07           1.000000   \n",
       "75%    2.302709e+08  8.754595e+07           3.000000   \n",
       "max    4.438672e+08  1.895026e+08           8.000000   \n",
       "\n",
       "       discharge_disposition_id  admission_source_id  time_in_hospital  \\\n",
       "count             101766.000000        101766.000000     101766.000000   \n",
       "mean                   3.715642             5.754437          4.395987   \n",
       "std                    5.280166             4.064081          2.985108   \n",
       "min                    1.000000             1.000000          1.000000   \n",
       "25%                    1.000000             1.000000          2.000000   \n",
       "50%                    1.000000             7.000000          4.000000   \n",
       "75%                    4.000000             7.000000          6.000000   \n",
       "max                   28.000000            25.000000         14.000000   \n",
       "\n",
       "       num_lab_procedures  num_procedures  num_medications  number_outpatient  \\\n",
       "count       101766.000000   101766.000000    101766.000000      101766.000000   \n",
       "mean            43.095641        1.339730        16.021844           0.369357   \n",
       "std             19.674362        1.705807         8.127566           1.267265   \n",
       "min              1.000000        0.000000         1.000000           0.000000   \n",
       "25%             31.000000        0.000000        10.000000           0.000000   \n",
       "50%             44.000000        1.000000        15.000000           0.000000   \n",
       "75%             57.000000        2.000000        20.000000           0.000000   \n",
       "max            132.000000        6.000000        81.000000          42.000000   \n",
       "\n",
       "       number_emergency  number_inpatient  number_diagnoses  \n",
       "count     101766.000000     101766.000000     101766.000000  \n",
       "mean           0.197836          0.635566          7.422607  \n",
       "std            0.930472          1.262863          1.933600  \n",
       "min            0.000000          0.000000          1.000000  \n",
       "25%            0.000000          0.000000          6.000000  \n",
       "50%            0.000000          0.000000          8.000000  \n",
       "75%            0.000000          1.000000          9.000000  \n",
       "max           76.000000         21.000000         16.000000  "
      ]
     },
     "execution_count": 3,
     "metadata": {},
     "output_type": "execute_result"
    }
   ],
   "source": [
    "#This function will let us view the descriptive statistics of all the numeric columns\n",
    "data.describe()"
   ]
  },
  {
   "cell_type": "code",
   "execution_count": 4,
   "id": "52a24d14",
   "metadata": {},
   "outputs": [
    {
     "name": "stdout",
     "output_type": "stream",
     "text": [
      "<class 'pandas.core.frame.DataFrame'>\n",
      "RangeIndex: 101766 entries, 0 to 101765\n",
      "Data columns (total 50 columns):\n",
      " #   Column                    Non-Null Count   Dtype \n",
      "---  ------                    --------------   ----- \n",
      " 0   encounter_id              101766 non-null  int64 \n",
      " 1   patient_nbr               101766 non-null  int64 \n",
      " 2   race                      101766 non-null  object\n",
      " 3   gender                    101766 non-null  object\n",
      " 4   age                       101766 non-null  object\n",
      " 5   weight                    101766 non-null  object\n",
      " 6   admission_type_id         101766 non-null  int64 \n",
      " 7   discharge_disposition_id  101766 non-null  int64 \n",
      " 8   admission_source_id       101766 non-null  int64 \n",
      " 9   time_in_hospital          101766 non-null  int64 \n",
      " 10  payer_code                101766 non-null  object\n",
      " 11  medical_specialty         101766 non-null  object\n",
      " 12  num_lab_procedures        101766 non-null  int64 \n",
      " 13  num_procedures            101766 non-null  int64 \n",
      " 14  num_medications           101766 non-null  int64 \n",
      " 15  number_outpatient         101766 non-null  int64 \n",
      " 16  number_emergency          101766 non-null  int64 \n",
      " 17  number_inpatient          101766 non-null  int64 \n",
      " 18  diag_1                    101766 non-null  object\n",
      " 19  diag_2                    101766 non-null  object\n",
      " 20  diag_3                    101766 non-null  object\n",
      " 21  number_diagnoses          101766 non-null  int64 \n",
      " 22  max_glu_serum             101766 non-null  object\n",
      " 23  A1Cresult                 101766 non-null  object\n",
      " 24  metformin                 101766 non-null  object\n",
      " 25  repaglinide               101766 non-null  object\n",
      " 26  nateglinide               101766 non-null  object\n",
      " 27  chlorpropamide            101766 non-null  object\n",
      " 28  glimepiride               101766 non-null  object\n",
      " 29  acetohexamide             101766 non-null  object\n",
      " 30  glipizide                 101766 non-null  object\n",
      " 31  glyburide                 101766 non-null  object\n",
      " 32  tolbutamide               101766 non-null  object\n",
      " 33  pioglitazone              101766 non-null  object\n",
      " 34  rosiglitazone             101766 non-null  object\n",
      " 35  acarbose                  101766 non-null  object\n",
      " 36  miglitol                  101766 non-null  object\n",
      " 37  troglitazone              101766 non-null  object\n",
      " 38  tolazamide                101766 non-null  object\n",
      " 39  examide                   101766 non-null  object\n",
      " 40  citoglipton               101766 non-null  object\n",
      " 41  insulin                   101766 non-null  object\n",
      " 42  glyburide-metformin       101766 non-null  object\n",
      " 43  glipizide-metformin       101766 non-null  object\n",
      " 44  glimepiride-pioglitazone  101766 non-null  object\n",
      " 45  metformin-rosiglitazone   101766 non-null  object\n",
      " 46  metformin-pioglitazone    101766 non-null  object\n",
      " 47  change                    101766 non-null  object\n",
      " 48  diabetesMed               101766 non-null  object\n",
      " 49  readmitted                101766 non-null  object\n",
      "dtypes: int64(13), object(37)\n",
      "memory usage: 38.8+ MB\n"
     ]
    }
   ],
   "source": [
    "data.info()"
   ]
  },
  {
   "cell_type": "markdown",
   "id": "9079194e",
   "metadata": {},
   "source": [
    "We can see that there are 101766 records and 50 attributes considered."
   ]
  },
  {
   "cell_type": "markdown",
   "id": "1d09e609",
   "metadata": {},
   "source": [
    "## 2. Data Pre-processing:"
   ]
  },
  {
   "cell_type": "markdown",
   "id": "8397933c",
   "metadata": {},
   "source": [
    "Handling missing values\n",
    "<br>Let's look at Weight, Payer code, and the Medical_specialty of the admitting doctor"
   ]
  },
  {
   "cell_type": "code",
   "execution_count": 6,
   "id": "79e27be9",
   "metadata": {},
   "outputs": [
    {
     "name": "stdout",
     "output_type": "stream",
     "text": [
      "?            98569\n",
      "[75-100)      1336\n",
      "[50-75)        897\n",
      "[100-125)      625\n",
      "[125-150)      145\n",
      "[25-50)         97\n",
      "[0-25)          48\n",
      "[150-175)       35\n",
      "[175-200)       11\n",
      ">200             3\n",
      "Name: weight, dtype: int64\n"
     ]
    },
    {
     "data": {
      "image/png": "[encoded data removed]",
      "text/plain": [
       "<Figure size 432x288 with 1 Axes>"
      ]
     },
     "metadata": {},
     "output_type": "display_data"
    }
   ],
   "source": [
    "#Observe the distribution of the weight column\n",
    "data['weight'].value_counts().plot.pie()\n",
    "print(data_weight)"
   ]
  },
  {
   "cell_type": "code",
   "execution_count": 24,
   "id": "c645c015",
   "metadata": {},
   "outputs": [
    {
     "name": "stdout",
     "output_type": "stream",
     "text": [
      "        encounter_id  patient_nbr             race  gender      age  \\\n",
      "0            2278392      8222157        Caucasian  Female   [0-10)   \n",
      "1             149190     55629189        Caucasian  Female  [10-20)   \n",
      "2              64410     86047875  AfricanAmerican  Female  [20-30)   \n",
      "3             500364     82442376        Caucasian    Male  [30-40)   \n",
      "4              16680     42519267        Caucasian    Male  [40-50)   \n",
      "...              ...          ...              ...     ...      ...   \n",
      "101761     443847548    100162476  AfricanAmerican    Male  [70-80)   \n",
      "101762     443847782     74694222  AfricanAmerican  Female  [80-90)   \n",
      "101763     443854148     41088789        Caucasian    Male  [70-80)   \n",
      "101764     443857166     31693671        Caucasian  Female  [80-90)   \n",
      "101765     443867222    175429310        Caucasian    Male  [70-80)   \n",
      "\n",
      "        admission_type_id  discharge_disposition_id  admission_source_id  \\\n",
      "0                       6                        25                    1   \n",
      "1                       1                         1                    7   \n",
      "2                       1                         1                    7   \n",
      "3                       1                         1                    7   \n",
      "4                       1                         1                    7   \n",
      "...                   ...                       ...                  ...   \n",
      "101761                  1                         3                    7   \n",
      "101762                  1                         4                    5   \n",
      "101763                  1                         1                    7   \n",
      "101764                  2                         3                    7   \n",
      "101765                  1                         1                    7   \n",
      "\n",
      "        time_in_hospital payer_code  ... insulin  glyburide-metformin  \\\n",
      "0                      1          ?  ...      No                   No   \n",
      "1                      3          ?  ...      Up                   No   \n",
      "2                      2          ?  ...      No                   No   \n",
      "3                      2          ?  ...      Up                   No   \n",
      "4                      1          ?  ...  Steady                   No   \n",
      "...                  ...        ...  ...     ...                  ...   \n",
      "101761                 3         MC  ...    Down                   No   \n",
      "101762                 5         MC  ...  Steady                   No   \n",
      "101763                 1         MC  ...    Down                   No   \n",
      "101764                10         MC  ...      Up                   No   \n",
      "101765                 6          ?  ...      No                   No   \n",
      "\n",
      "        glipizide-metformin  glimepiride-pioglitazone  \\\n",
      "0                        No                        No   \n",
      "1                        No                        No   \n",
      "2                        No                        No   \n",
      "3                        No                        No   \n",
      "4                        No                        No   \n",
      "...                     ...                       ...   \n",
      "101761                   No                        No   \n",
      "101762                   No                        No   \n",
      "101763                   No                        No   \n",
      "101764                   No                        No   \n",
      "101765                   No                        No   \n",
      "\n",
      "        metformin-rosiglitazone  metformin-pioglitazone  change diabetesMed  \\\n",
      "0                            No                      No      No          No   \n",
      "1                            No                      No      Ch         Yes   \n",
      "2                            No                      No      No         Yes   \n",
      "3                            No                      No      Ch         Yes   \n",
      "4                            No                      No      Ch         Yes   \n",
      "...                         ...                     ...     ...         ...   \n",
      "101761                       No                      No      Ch         Yes   \n",
      "101762                       No                      No      No         Yes   \n",
      "101763                       No                      No      Ch         Yes   \n",
      "101764                       No                      No      Ch         Yes   \n",
      "101765                       No                      No      No          No   \n",
      "\n",
      "       readmitted  Letters  \n",
      "0              NO      NaN  \n",
      "1             >30  Unknown  \n",
      "2              NO  Unknown  \n",
      "3              NO  Unknown  \n",
      "4              NO  Unknown  \n",
      "...           ...      ...  \n",
      "101761        >30  Unknown  \n",
      "101762         NO  Unknown  \n",
      "101763         NO  Unknown  \n",
      "101764         NO      NaN  \n",
      "101765         NO  Unknown  \n",
      "\n",
      "[101766 rows x 50 columns]\n"
     ]
    }
   ],
   "source": [
    "#It's obvious that there isn't much valuable data available in this column. It can be deleted.\n",
    "data.drop('weight',axis = 1, inplace=True)\n",
    "print(data)"
   ]
  },
  {
   "cell_type": "code",
   "execution_count": 8,
   "id": "2fd77eec",
   "metadata": {},
   "outputs": [
    {
     "data": {
      "text/plain": [
       "<AxesSubplot:ylabel='medical_specialty'>"
      ]
     },
     "execution_count": 8,
     "metadata": {},
     "output_type": "execute_result"
    },
    {
     "data": {
      "image/png": "[encoded data removed]",
      "text/plain": [
       "<Figure size 432x288 with 1 Axes>"
      ]
     },
     "metadata": {},
     "output_type": "display_data"
    }
   ],
   "source": [
    "#Observe the distribution of the medical_specialty column\n",
    "data['medical_specialty'].value_counts().plot.pie()"
   ]
  },
  {
   "cell_type": "code",
   "execution_count": 10,
   "id": "80f0c0e5",
   "metadata": {},
   "outputs": [
    {
     "data": {
      "text/plain": [
       "?                             49949\n",
       "InternalMedicine              14635\n",
       "Emergency/Trauma               7565\n",
       "Family/GeneralPractice         7440\n",
       "Cardiology                     5352\n",
       "Surgery-General                3099\n",
       "Nephrology                     1613\n",
       "Orthopedics                    1400\n",
       "Orthopedics-Reconstructive     1233\n",
       "Radiologist                    1140\n",
       "Name: medical_specialty, dtype: int64"
      ]
     },
     "execution_count": 10,
     "metadata": {},
     "output_type": "execute_result"
    }
   ],
   "source": [
    "data['medical_specialty'].value_counts().head(10)"
   ]
  },
  {
   "cell_type": "code",
   "execution_count": 35,
   "id": "f116aff8",
   "metadata": {},
   "outputs": [
    {
     "name": "stdout",
     "output_type": "stream",
     "text": [
      "0         Pediatrics-Endocrinology\n",
      "1                          Unknown\n",
      "2                          Unknown\n",
      "3                          Unknown\n",
      "4                          Unknown\n",
      "                    ...           \n",
      "101761                     Unknown\n",
      "101762                     Unknown\n",
      "101763                     Unknown\n",
      "101764             Surgery-General\n",
      "101765                     Unknown\n",
      "Name: medical_specialty, Length: 101766, dtype: object\n"
     ]
    }
   ],
   "source": [
    "#This column has about 50% useful data. We can set '?' to 'Unknown' and use what is available.\n",
    "data_medical_specialty = data.loc[data['medical_specialty']=='?', 'medical_specialty'] = \"Unknown\"\n",
    "print(data['medical_specialty'])"
   ]
  },
  {
   "cell_type": "code",
   "execution_count": 25,
   "id": "6d0f07ea",
   "metadata": {},
   "outputs": [
    {
     "data": {
      "text/plain": [
       "<AxesSubplot:ylabel='payer_code'>"
      ]
     },
     "execution_count": 25,
     "metadata": {},
     "output_type": "execute_result"
    },
    {
     "data": {
      "image/png": "[encoded data removed]",
      "text/plain": [
       "<Figure size 432x288 with 1 Axes>"
      ]
     },
     "metadata": {},
     "output_type": "display_data"
    }
   ],
   "source": [
    "#Observe the Payer Code distribution\n",
    "data['payer_code'].value_counts().plot.pie()"
   ]
  },
  {
   "cell_type": "code",
   "execution_count": 26,
   "id": "fd37a0a5",
   "metadata": {},
   "outputs": [
    {
     "name": "stdout",
     "output_type": "stream",
     "text": [
      "        encounter_id  patient_nbr             race  gender      age  \\\n",
      "0            2278392      8222157        Caucasian  Female   [0-10)   \n",
      "1             149190     55629189        Caucasian  Female  [10-20)   \n",
      "2              64410     86047875  AfricanAmerican  Female  [20-30)   \n",
      "3             500364     82442376        Caucasian    Male  [30-40)   \n",
      "4              16680     42519267        Caucasian    Male  [40-50)   \n",
      "...              ...          ...              ...     ...      ...   \n",
      "101761     443847548    100162476  AfricanAmerican    Male  [70-80)   \n",
      "101762     443847782     74694222  AfricanAmerican  Female  [80-90)   \n",
      "101763     443854148     41088789        Caucasian    Male  [70-80)   \n",
      "101764     443857166     31693671        Caucasian  Female  [80-90)   \n",
      "101765     443867222    175429310        Caucasian    Male  [70-80)   \n",
      "\n",
      "        admission_type_id  discharge_disposition_id  admission_source_id  \\\n",
      "0                       6                        25                    1   \n",
      "1                       1                         1                    7   \n",
      "2                       1                         1                    7   \n",
      "3                       1                         1                    7   \n",
      "4                       1                         1                    7   \n",
      "...                   ...                       ...                  ...   \n",
      "101761                  1                         3                    7   \n",
      "101762                  1                         4                    5   \n",
      "101763                  1                         1                    7   \n",
      "101764                  2                         3                    7   \n",
      "101765                  1                         1                    7   \n",
      "\n",
      "        time_in_hospital         medical_specialty  ...  insulin  \\\n",
      "0                      1  Pediatrics-Endocrinology  ...       No   \n",
      "1                      3                   Unknown  ...       Up   \n",
      "2                      2                   Unknown  ...       No   \n",
      "3                      2                   Unknown  ...       Up   \n",
      "4                      1                   Unknown  ...   Steady   \n",
      "...                  ...                       ...  ...      ...   \n",
      "101761                 3                   Unknown  ...     Down   \n",
      "101762                 5                   Unknown  ...   Steady   \n",
      "101763                 1                   Unknown  ...     Down   \n",
      "101764                10           Surgery-General  ...       Up   \n",
      "101765                 6                   Unknown  ...       No   \n",
      "\n",
      "        glyburide-metformin  glipizide-metformin  glimepiride-pioglitazone  \\\n",
      "0                        No                   No                        No   \n",
      "1                        No                   No                        No   \n",
      "2                        No                   No                        No   \n",
      "3                        No                   No                        No   \n",
      "4                        No                   No                        No   \n",
      "...                     ...                  ...                       ...   \n",
      "101761                   No                   No                        No   \n",
      "101762                   No                   No                        No   \n",
      "101763                   No                   No                        No   \n",
      "101764                   No                   No                        No   \n",
      "101765                   No                   No                        No   \n",
      "\n",
      "        metformin-rosiglitazone  metformin-pioglitazone change diabetesMed  \\\n",
      "0                            No                      No     No          No   \n",
      "1                            No                      No     Ch         Yes   \n",
      "2                            No                      No     No         Yes   \n",
      "3                            No                      No     Ch         Yes   \n",
      "4                            No                      No     Ch         Yes   \n",
      "...                         ...                     ...    ...         ...   \n",
      "101761                       No                      No     Ch         Yes   \n",
      "101762                       No                      No     No         Yes   \n",
      "101763                       No                      No     Ch         Yes   \n",
      "101764                       No                      No     Ch         Yes   \n",
      "101765                       No                      No     No          No   \n",
      "\n",
      "       readmitted  Letters  \n",
      "0              NO      NaN  \n",
      "1             >30  Unknown  \n",
      "2              NO  Unknown  \n",
      "3              NO  Unknown  \n",
      "4              NO  Unknown  \n",
      "...           ...      ...  \n",
      "101761        >30  Unknown  \n",
      "101762         NO  Unknown  \n",
      "101763         NO  Unknown  \n",
      "101764         NO      NaN  \n",
      "101765         NO  Unknown  \n",
      "\n",
      "[101766 rows x 49 columns]\n"
     ]
    }
   ],
   "source": [
    "#Payer code can be removed because it doesn't seem to have anything useful to offer\n",
    "data.drop('payer_code',axis = 1, inplace=True)\n",
    "print(data)"
   ]
  },
  {
   "cell_type": "markdown",
   "id": "0300b5a3",
   "metadata": {},
   "source": [
    "## 3. Data Exploration:"
   ]
  },
  {
   "cell_type": "code",
   "execution_count": null,
   "id": "f632854c",
   "metadata": {},
   "outputs": [],
   "source": [
    "#Calculate Mean, Median"
   ]
  },
  {
   "cell_type": "code",
   "execution_count": null,
   "id": "9b97854e",
   "metadata": {},
   "outputs": [],
   "source": [
    "#Calculate Value counts\n"
   ]
  },
  {
   "cell_type": "code",
   "execution_count": 42,
   "id": "3a56a5a7",
   "metadata": {},
   "outputs": [
    {
     "data": {
      "text/plain": [
       "Not readmitted    54864\n",
       "Readmitted        46902\n",
       "Name: readmitted, dtype: int64"
      ]
     },
     "execution_count": 42,
     "metadata": {},
     "output_type": "execute_result"
    }
   ],
   "source": [
    "#1. What is the distribution of readmission outcomes? How many patients were readmitted vs. not readmitted?\n",
    "#data1 = pd.read_csv(\"diabetic_data.csv\")\n",
    "readmitted_data = data['readmitted'].apply(lambda x: \"Readmitted\" if x =='>30' or x == '<30' else \"Not readmitted\")\n",
    "readmitted_data.value_counts()"
   ]
  },
  {
   "cell_type": "code",
   "execution_count": 50,
   "id": "12650296",
   "metadata": {},
   "outputs": [
    {
     "data": {
      "text/plain": [
       "[70-80)     26068\n",
       "[60-70)     22483\n",
       "[50-60)     17256\n",
       "[80-90)     17197\n",
       "[40-50)      9685\n",
       "[30-40)      3775\n",
       "[90-100)     2793\n",
       "[20-30)      1657\n",
       "[10-20)       691\n",
       "[0-10)        161\n",
       "Name: age, dtype: int64"
      ]
     },
     "execution_count": 50,
     "metadata": {},
     "output_type": "execute_result"
    }
   ],
   "source": [
    "#2. What are the demographic characteristics of the patients in terms of age, gender, and ethnicity?\n",
    "#age\n",
    "data['age'].value_counts()"
   ]
  },
  {
   "cell_type": "code",
   "execution_count": 52,
   "id": "98777ab5",
   "metadata": {},
   "outputs": [
    {
     "data": {
      "text/plain": [
       "<AxesSubplot:ylabel='age'>"
      ]
     },
     "execution_count": 52,
     "metadata": {},
     "output_type": "execute_result"
    },
    {
     "data": {
      "image/png": "[encoded data removed]",
      "text/plain": [
       "<Figure size 432x288 with 1 Axes>"
      ]
     },
     "metadata": {},
     "output_type": "display_data"
    }
   ],
   "source": [
    "data['age'].value_counts().plot.pie()"
   ]
  },
  {
   "cell_type": "code",
   "execution_count": 58,
   "id": "a01d0eb8",
   "metadata": {},
   "outputs": [
    {
     "data": {
      "text/plain": [
       "<AxesSubplot:>"
      ]
     },
     "execution_count": 58,
     "metadata": {},
     "output_type": "execute_result"
    },
    {
     "data": {
      "image/png": "[encoded data removed]",
      "text/plain": [
       "<Figure size 432x288 with 1 Axes>"
      ]
     },
     "metadata": {
      "needs_background": "light"
     },
     "output_type": "display_data"
    }
   ],
   "source": [
    "data['age'].value_counts().hist()"
   ]
  },
  {
   "cell_type": "code",
   "execution_count": 54,
   "id": "b7a0eb83",
   "metadata": {},
   "outputs": [
    {
     "data": {
      "text/plain": [
       "Female             54708\n",
       "Male               47055\n",
       "Unknown/Invalid        3\n",
       "Name: gender, dtype: int64"
      ]
     },
     "execution_count": 54,
     "metadata": {},
     "output_type": "execute_result"
    }
   ],
   "source": [
    "#gender\n",
    "data['gender'].value_counts()"
   ]
  },
  {
   "cell_type": "code",
   "execution_count": 57,
   "id": "e009bc21",
   "metadata": {},
   "outputs": [
    {
     "data": {
      "text/plain": [
       "<AxesSubplot:ylabel='gender'>"
      ]
     },
     "execution_count": 57,
     "metadata": {},
     "output_type": "execute_result"
    },
    {
     "data": {
      "image/png": "[encoded data removed]",
      "text/plain": [
       "<Figure size 432x288 with 1 Axes>"
      ]
     },
     "metadata": {},
     "output_type": "display_data"
    }
   ],
   "source": [
    "data['gender'].value_counts().plot.pie()"
   ]
  },
  {
   "cell_type": "code",
   "execution_count": 45,
   "id": "6d692919",
   "metadata": {},
   "outputs": [
    {
     "data": {
      "text/plain": [
       "Caucasian          76099\n",
       "AfricanAmerican    19210\n",
       "?                   2273\n",
       "Hispanic            2037\n",
       "Other               1506\n",
       "Asian                641\n",
       "Name: race, dtype: int64"
      ]
     },
     "execution_count": 45,
     "metadata": {},
     "output_type": "execute_result"
    }
   ],
   "source": [
    "#ethnicity\n",
    "data['race'].value_counts()"
   ]
  },
  {
   "cell_type": "code",
   "execution_count": 47,
   "id": "bf3b794b",
   "metadata": {},
   "outputs": [
    {
     "data": {
      "text/plain": [
       "<AxesSubplot:ylabel='race'>"
      ]
     },
     "execution_count": 47,
     "metadata": {},
     "output_type": "execute_result"
    },
    {
     "data": {
      "image/png": "[encoded data removed]",
      "text/plain": [
       "<Figure size 432x288 with 1 Axes>"
      ]
     },
     "metadata": {},
     "output_type": "display_data"
    }
   ],
   "source": [
    "#Pie chart of the demographics\n",
    "data['race'].value_counts().plot.pie()"
   ]
  },
  {
   "cell_type": "code",
   "execution_count": 48,
   "id": "fe510bf9",
   "metadata": {},
   "outputs": [
    {
     "data": {
      "text/plain": [
       "<AxesSubplot:>"
      ]
     },
     "execution_count": 48,
     "metadata": {},
     "output_type": "execute_result"
    },
    {
     "data": {
      "image/png": "[encoded data removed]",
      "text/plain": [
       "<Figure size 432x288 with 1 Axes>"
      ]
     },
     "metadata": {
      "needs_background": "light"
     },
     "output_type": "display_data"
    }
   ],
   "source": [
    "#Bar plot of the demographics\n",
    "data['race'].value_counts().plot.bar()"
   ]
  },
  {
   "cell_type": "code",
   "execution_count": 82,
   "id": "dd1165f9",
   "metadata": {},
   "outputs": [
    {
     "data": {
      "text/plain": [
       "encounter_id                83\n",
       "patient_nbr                 83\n",
       "race                        83\n",
       "gender                      83\n",
       "age                         83\n",
       "admission_type_id           83\n",
       "discharge_disposition_id    83\n",
       "admission_source_id         83\n",
       "time_in_hospital            83\n",
       "medical_specialty           83\n",
       "num_lab_procedures          83\n",
       "num_procedures              83\n",
       "num_medications             83\n",
       "number_outpatient           83\n",
       "number_emergency            83\n",
       "number_inpatient            83\n",
       "diag_1                      83\n",
       "diag_2                      83\n",
       "diag_3                      83\n",
       "number_diagnoses            83\n",
       "max_glu_serum               83\n",
       "A1Cresult                   83\n",
       "metformin                   83\n",
       "repaglinide                 83\n",
       "nateglinide                 83\n",
       "chlorpropamide              83\n",
       "glimepiride                 83\n",
       "acetohexamide               83\n",
       "glipizide                   83\n",
       "glyburide                   83\n",
       "tolbutamide                 83\n",
       "pioglitazone                83\n",
       "rosiglitazone               83\n",
       "acarbose                    83\n",
       "miglitol                    83\n",
       "troglitazone                83\n",
       "tolazamide                  83\n",
       "examide                     83\n",
       "citoglipton                 83\n",
       "insulin                     83\n",
       "glyburide-metformin         83\n",
       "glipizide-metformin         83\n",
       "glimepiride-pioglitazone    83\n",
       "metformin-rosiglitazone     83\n",
       "metformin-pioglitazone      83\n",
       "change                      83\n",
       "diabetesMed                 83\n",
       "readmitted                  83\n",
       "Letters                     14\n",
       "dtype: int64"
      ]
     },
     "execution_count": 82,
     "metadata": {},
     "output_type": "execute_result"
    }
   ],
   "source": [
    "data[(data['age'] == '[0-10)') & (data['gender'] == 'Female')].count()"
   ]
  },
  {
   "cell_type": "code",
   "execution_count": 64,
   "id": "8eaaa850",
   "metadata": {},
   "outputs": [
    {
     "data": {
      "text/html": [
       "<div>\n",
       "<style scoped>\n",
       "    .dataframe tbody tr th:only-of-type {\n",
       "        vertical-align: middle;\n",
       "    }\n",
       "\n",
       "    .dataframe tbody tr th {\n",
       "        vertical-align: top;\n",
       "    }\n",
       "\n",
       "    .dataframe thead th {\n",
       "        text-align: right;\n",
       "    }\n",
       "</style>\n",
       "<table border=\"1\" class=\"dataframe\">\n",
       "  <thead>\n",
       "    <tr style=\"text-align: right;\">\n",
       "      <th></th>\n",
       "      <th>gender</th>\n",
       "    </tr>\n",
       "    <tr>\n",
       "      <th>age</th>\n",
       "      <th></th>\n",
       "    </tr>\n",
       "  </thead>\n",
       "  <tbody>\n",
       "    <tr>\n",
       "      <th>[0-10)</th>\n",
       "      <td>161</td>\n",
       "    </tr>\n",
       "    <tr>\n",
       "      <th>[10-20)</th>\n",
       "      <td>691</td>\n",
       "    </tr>\n",
       "    <tr>\n",
       "      <th>[20-30)</th>\n",
       "      <td>1657</td>\n",
       "    </tr>\n",
       "    <tr>\n",
       "      <th>[30-40)</th>\n",
       "      <td>3775</td>\n",
       "    </tr>\n",
       "    <tr>\n",
       "      <th>[40-50)</th>\n",
       "      <td>9685</td>\n",
       "    </tr>\n",
       "    <tr>\n",
       "      <th>[50-60)</th>\n",
       "      <td>17256</td>\n",
       "    </tr>\n",
       "    <tr>\n",
       "      <th>[60-70)</th>\n",
       "      <td>22483</td>\n",
       "    </tr>\n",
       "    <tr>\n",
       "      <th>[70-80)</th>\n",
       "      <td>26068</td>\n",
       "    </tr>\n",
       "    <tr>\n",
       "      <th>[80-90)</th>\n",
       "      <td>17197</td>\n",
       "    </tr>\n",
       "    <tr>\n",
       "      <th>[90-100)</th>\n",
       "      <td>2793</td>\n",
       "    </tr>\n",
       "  </tbody>\n",
       "</table>\n",
       "</div>"
      ],
      "text/plain": [
       "          gender\n",
       "age             \n",
       "[0-10)       161\n",
       "[10-20)      691\n",
       "[20-30)     1657\n",
       "[30-40)     3775\n",
       "[40-50)     9685\n",
       "[50-60)    17256\n",
       "[60-70)    22483\n",
       "[70-80)    26068\n",
       "[80-90)    17197\n",
       "[90-100)    2793"
      ]
     },
     "execution_count": 64,
     "metadata": {},
     "output_type": "execute_result"
    }
   ],
   "source": [
    "data1 = pd.read_csv(\"diabetic_data.csv\")\n",
    "cols_list = ['age','gender']\n",
    "data1 = data1[cols_list]\n",
    "data1.groupby('age').count()"
   ]
  },
  {
   "cell_type": "code",
   "execution_count": 203,
   "id": "20e75b42",
   "metadata": {},
   "outputs": [
    {
     "data": {
      "text/plain": [
       "428      4057\n",
       "414      2720\n",
       "786      1709\n",
       "486      1683\n",
       "410      1438\n",
       "491      1360\n",
       "427      1226\n",
       "996      1035\n",
       "276       970\n",
       "682       957\n",
       "780       921\n",
       "434       917\n",
       "250.8     881\n",
       "599       788\n",
       "715       783\n",
       "Name: diag_1, dtype: int64"
      ]
     },
     "execution_count": 203,
     "metadata": {},
     "output_type": "execute_result"
    }
   ],
   "source": [
    "#What are the common primary diagnoses and procedures associated with hospital readmissions?\n",
    "data2 = pd.read_csv(\"diabetic_data.csv\")\n",
    "cols_list = ['readmitted','diag_1','num_lab_procedures','num_procedures','time_in_hospital']\n",
    "data2 = data2[cols_list]\n",
    "data2.loc[data2['readmitted'] =='>30', 'readmitted'] = \"readmitted\"\n",
    "data2.loc[data2['readmitted'] =='<30', 'readmitted'] = \"readmitted\"\n",
    "data2 = data2[(data2['readmitted'] == 'readmitted')]\n",
    "#Primary Diagnosis\n",
    "data2['diag_1'].value_counts().head(15)"
   ]
  },
  {
   "cell_type": "code",
   "execution_count": 204,
   "id": "8be5947a",
   "metadata": {},
   "outputs": [
    {
     "data": {
      "text/plain": [
       "43    1337\n",
       "1     1308\n",
       "44    1170\n",
       "45    1105\n",
       "46    1019\n",
       "42    1005\n",
       "40     997\n",
       "41     991\n",
       "39     970\n",
       "49     965\n",
       "38     950\n",
       "37     946\n",
       "48     935\n",
       "47     930\n",
       "36     918\n",
       "Name: num_lab_procedures, dtype: int64"
      ]
     },
     "execution_count": 204,
     "metadata": {},
     "output_type": "execute_result"
    }
   ],
   "source": [
    "#number of lab procedures\n",
    "data2['num_lab_procedures'].value_counts().head(15)"
   ]
  },
  {
   "cell_type": "code",
   "execution_count": 205,
   "id": "9cfa9ed8",
   "metadata": {},
   "outputs": [
    {
     "name": "stdout",
     "output_type": "stream",
     "text": [
      "                    num_lab_procedures  num_procedures  time_in_hospital\n",
      "num_lab_procedures            1.000000        0.074300          0.294811\n",
      "num_procedures                0.074300        1.000000          0.217432\n",
      "time_in_hospital              0.294811        0.217432          1.000000\n"
     ]
    }
   ],
   "source": [
    "corr = data2.corr()\n",
    "print(corr)"
   ]
  },
  {
   "cell_type": "code",
   "execution_count": 95,
   "id": "f22b93a7",
   "metadata": {},
   "outputs": [
    {
     "data": {
      "text/plain": [
       "0    22516\n",
       "1     9558\n",
       "2     5641\n",
       "3     4008\n",
       "6     2045\n",
       "4     1840\n",
       "5     1294\n",
       "Name: num_procedures, dtype: int64"
      ]
     },
     "execution_count": 95,
     "metadata": {},
     "output_type": "execute_result"
    }
   ],
   "source": [
    "#number of lab procedures\n",
    "data2['num_procedures'].value_counts().head(15)"
   ]
  },
  {
   "cell_type": "code",
   "execution_count": 109,
   "id": "5a484ce1",
   "metadata": {},
   "outputs": [
    {
     "data": {
      "text/plain": [
       "4.56157519935184"
      ]
     },
     "execution_count": 109,
     "metadata": {},
     "output_type": "execute_result"
    }
   ],
   "source": [
    "#How does the length of stay vary for readmitted patients compared to non-readmitted patients?\n",
    "#(Find the mean, median, and standard deviation of the “time_in_hospital” for each of the three categories of the “readmitted” column).\n",
    "\n",
    "#The mean of time in hospital for readmitted patients\n",
    "data2['time_in_hospital'].mean()"
   ]
  },
  {
   "cell_type": "code",
   "execution_count": 108,
   "id": "039837ee",
   "metadata": {},
   "outputs": [
    {
     "data": {
      "text/plain": [
       "4.0"
      ]
     },
     "execution_count": 108,
     "metadata": {},
     "output_type": "execute_result"
    }
   ],
   "source": [
    "#The median of time in hospital for readmitted patients\n",
    "data2['time_in_hospital'].median()"
   ]
  },
  {
   "cell_type": "code",
   "execution_count": 110,
   "id": "ef8c6bfc",
   "metadata": {},
   "outputs": [
    {
     "data": {
      "text/plain": [
       "3.0000663476179366"
      ]
     },
     "execution_count": 110,
     "metadata": {},
     "output_type": "execute_result"
    }
   ],
   "source": [
    "#The std deviation of time in hospital for readmitted patients\n",
    "data2['time_in_hospital'].std()"
   ]
  },
  {
   "cell_type": "code",
   "execution_count": 116,
   "id": "7d3c157f",
   "metadata": {},
   "outputs": [],
   "source": [
    "#For non-readmitted patients,\n",
    "data3 = pd.read_csv(\"diabetic_data.csv\")\n",
    "cols_list = ['readmitted','time_in_hospital']\n",
    "data3 = data3[cols_list]\n",
    "data3.loc[data3['readmitted'] =='>30', 'readmitted'] = \"readmitted\"\n",
    "data3.loc[data3['readmitted'] =='<30', 'readmitted'] = \"readmitted\"\n",
    "data3 = data3[(data3['readmitted'] != 'readmitted')]"
   ]
  },
  {
   "cell_type": "code",
   "execution_count": 117,
   "id": "11d75f8e",
   "metadata": {},
   "outputs": [
    {
     "data": {
      "text/plain": [
       "4.254429133858268"
      ]
     },
     "execution_count": 117,
     "metadata": {},
     "output_type": "execute_result"
    }
   ],
   "source": [
    "#The mean of time in hospital for non-readmitted patients\n",
    "data3['time_in_hospital'].mean()"
   ]
  },
  {
   "cell_type": "code",
   "execution_count": 118,
   "id": "ada2cca8",
   "metadata": {},
   "outputs": [
    {
     "data": {
      "text/plain": [
       "3.0"
      ]
     },
     "execution_count": 118,
     "metadata": {},
     "output_type": "execute_result"
    }
   ],
   "source": [
    "#The median of time in hospital for non-readmitted patients\n",
    "data3['time_in_hospital'].median()"
   ]
  },
  {
   "cell_type": "code",
   "execution_count": 119,
   "id": "cc28dda7",
   "metadata": {},
   "outputs": [
    {
     "data": {
      "text/plain": [
       "2.964964487584448"
      ]
     },
     "execution_count": 119,
     "metadata": {},
     "output_type": "execute_result"
    }
   ],
   "source": [
    "##The std deviation of time in hospital for non-readmitted patients\n",
    "data3['time_in_hospital'].std()"
   ]
  },
  {
   "cell_type": "code",
   "execution_count": 121,
   "id": "a82abcb7",
   "metadata": {},
   "outputs": [],
   "source": [
    "#Are there specific medications or treatments from the list below that are more frequently associated with readmissions?\n",
    "data3 = pd.read_csv(\"diabetic_data.csv\")\n",
    "cols_list = ['readmitted','metformin', 'repaglinide', 'nateglinide', 'chlorpropamide', 'glimepiride', 'acetohexamide', 'glipizide', 'glyburide', 'tolbutamide', 'pioglitazone', 'rosiglitazone', 'acarbose', 'miglitol', 'troglitazone', 'tolazamide', 'examide', 'citoglipton', 'insulin', 'glyburide-metformin', 'glipizide-metformin', 'glimepiride-pioglitazone', 'metformin-rosiglitazone', 'metformin-pioglitazone']\n",
    "data3 = data3[cols_list]\n",
    "data3.loc[data3['readmitted'] =='>30', 'readmitted'] = \"readmitted\"\n",
    "data3.loc[data3['readmitted'] =='<30', 'readmitted'] = \"readmitted\"\n",
    "data3 = data3[(data3['readmitted'] == 'readmitted')]\n"
   ]
  },
  {
   "cell_type": "code",
   "execution_count": 127,
   "id": "2d4dc306",
   "metadata": {},
   "outputs": [
    {
     "data": {
      "text/plain": [
       "No        38257\n",
       "Steady     7951\n",
       "Up          435\n",
       "Down        259\n",
       "Name: metformin, dtype: int64"
      ]
     },
     "execution_count": 127,
     "metadata": {},
     "output_type": "execute_result"
    }
   ],
   "source": [
    "data3['metformin'].value_counts()"
   ]
  },
  {
   "cell_type": "code",
   "execution_count": 123,
   "id": "a9ba4515",
   "metadata": {},
   "outputs": [
    {
     "data": {
      "text/plain": [
       "No        46057\n",
       "Steady      770\n",
       "Up           53\n",
       "Down         22\n",
       "Name: repaglinide, dtype: int64"
      ]
     },
     "execution_count": 123,
     "metadata": {},
     "output_type": "execute_result"
    }
   ],
   "source": [
    "data3['repaglinide'].value_counts()"
   ]
  },
  {
   "cell_type": "code",
   "execution_count": 124,
   "id": "800d49d6",
   "metadata": {},
   "outputs": [
    {
     "data": {
      "text/plain": [
       "No        46560\n",
       "Steady      326\n",
       "Up           11\n",
       "Down          5\n",
       "Name: nateglinide, dtype: int64"
      ]
     },
     "execution_count": 124,
     "metadata": {},
     "output_type": "execute_result"
    }
   ],
   "source": [
    "data3['nateglinide'].value_counts()"
   ]
  },
  {
   "cell_type": "code",
   "execution_count": 125,
   "id": "8f9b8886",
   "metadata": {},
   "outputs": [
    {
     "data": {
      "text/plain": [
       "No        46863\n",
       "Steady       34\n",
       "Up            5\n",
       "Name: chlorpropamide, dtype: int64"
      ]
     },
     "execution_count": 125,
     "metadata": {},
     "output_type": "execute_result"
    }
   ],
   "source": [
    "data3['chlorpropamide'].value_counts()"
   ]
  },
  {
   "cell_type": "code",
   "execution_count": 128,
   "id": "12898b3a",
   "metadata": {},
   "outputs": [
    {
     "data": {
      "text/plain": [
       "No        44465\n",
       "Steady     2205\n",
       "Up          139\n",
       "Down         93\n",
       "Name: glimepiride, dtype: int64"
      ]
     },
     "execution_count": 128,
     "metadata": {},
     "output_type": "execute_result"
    }
   ],
   "source": [
    "data3['glimepiride'].value_counts()"
   ]
  },
  {
   "cell_type": "code",
   "execution_count": 129,
   "id": "1521e061",
   "metadata": {},
   "outputs": [
    {
     "data": {
      "text/plain": [
       "No        46901\n",
       "Steady        1\n",
       "Name: acetohexamide, dtype: int64"
      ]
     },
     "execution_count": 129,
     "metadata": {},
     "output_type": "execute_result"
    }
   ],
   "source": [
    "data3['acetohexamide'].value_counts()"
   ]
  },
  {
   "cell_type": "code",
   "execution_count": 130,
   "id": "51079387",
   "metadata": {},
   "outputs": [
    {
     "data": {
      "text/plain": [
       "No        40720\n",
       "Steady     5501\n",
       "Up          385\n",
       "Down        296\n",
       "Name: glipizide, dtype: int64"
      ]
     },
     "execution_count": 130,
     "metadata": {},
     "output_type": "execute_result"
    }
   ],
   "source": [
    "data3['glipizide'].value_counts()"
   ]
  },
  {
   "cell_type": "code",
   "execution_count": 131,
   "id": "63c36260",
   "metadata": {},
   "outputs": [
    {
     "data": {
      "text/plain": [
       "No        42052\n",
       "Steady     4216\n",
       "Up          359\n",
       "Down        275\n",
       "Name: glyburide, dtype: int64"
      ]
     },
     "execution_count": 131,
     "metadata": {},
     "output_type": "execute_result"
    }
   ],
   "source": [
    "data3['glyburide'].value_counts()"
   ]
  },
  {
   "cell_type": "code",
   "execution_count": 132,
   "id": "f5a68e11",
   "metadata": {},
   "outputs": [
    {
     "data": {
      "text/plain": [
       "No        46894\n",
       "Steady        8\n",
       "Name: tolbutamide, dtype: int64"
      ]
     },
     "execution_count": 132,
     "metadata": {},
     "output_type": "execute_result"
    }
   ],
   "source": [
    "data3['tolbutamide'].value_counts()"
   ]
  },
  {
   "cell_type": "code",
   "execution_count": 133,
   "id": "cc383983",
   "metadata": {},
   "outputs": [
    {
     "data": {
      "text/plain": [
       "No        43371\n",
       "Steady     3347\n",
       "Up          121\n",
       "Down         63\n",
       "Name: pioglitazone, dtype: int64"
      ]
     },
     "execution_count": 133,
     "metadata": {},
     "output_type": "execute_result"
    }
   ],
   "source": [
    "data3['pioglitazone'].value_counts()"
   ]
  },
  {
   "cell_type": "code",
   "execution_count": 134,
   "id": "02939501",
   "metadata": {},
   "outputs": [
    {
     "data": {
      "text/plain": [
       "No        43828\n",
       "Steady     2976\n",
       "Up           71\n",
       "Down         27\n",
       "Name: rosiglitazone, dtype: int64"
      ]
     },
     "execution_count": 134,
     "metadata": {},
     "output_type": "execute_result"
    }
   ],
   "source": [
    "data3['rosiglitazone'].value_counts()"
   ]
  },
  {
   "cell_type": "code",
   "execution_count": 135,
   "id": "3dd364ee",
   "metadata": {},
   "outputs": [
    {
     "data": {
      "text/plain": [
       "No        46719\n",
       "Steady      175\n",
       "Up            6\n",
       "Down          2\n",
       "Name: acarbose, dtype: int64"
      ]
     },
     "execution_count": 135,
     "metadata": {},
     "output_type": "execute_result"
    }
   ],
   "source": [
    "data3['acarbose'].value_counts()"
   ]
  },
  {
   "cell_type": "code",
   "execution_count": 136,
   "id": "22951b57",
   "metadata": {},
   "outputs": [
    {
     "data": {
      "text/plain": [
       "No        46878\n",
       "Steady       18\n",
       "Down          5\n",
       "Up            1\n",
       "Name: miglitol, dtype: int64"
      ]
     },
     "execution_count": 136,
     "metadata": {},
     "output_type": "execute_result"
    }
   ],
   "source": [
    "data3['miglitol'].value_counts()"
   ]
  },
  {
   "cell_type": "code",
   "execution_count": 137,
   "id": "fb4d9ff2",
   "metadata": {},
   "outputs": [
    {
     "data": {
      "text/plain": [
       "No        46900\n",
       "Steady        2\n",
       "Name: troglitazone, dtype: int64"
      ]
     },
     "execution_count": 137,
     "metadata": {},
     "output_type": "execute_result"
    }
   ],
   "source": [
    "data3['troglitazone'].value_counts()"
   ]
  },
  {
   "cell_type": "code",
   "execution_count": 138,
   "id": "bdc33046",
   "metadata": {},
   "outputs": [
    {
     "data": {
      "text/plain": [
       "No        46889\n",
       "Steady       12\n",
       "Up            1\n",
       "Name: tolazamide, dtype: int64"
      ]
     },
     "execution_count": 138,
     "metadata": {},
     "output_type": "execute_result"
    }
   ],
   "source": [
    "data3['tolazamide'].value_counts()"
   ]
  },
  {
   "cell_type": "code",
   "execution_count": 139,
   "id": "f6a678c0",
   "metadata": {},
   "outputs": [
    {
     "data": {
      "text/plain": [
       "No    46902\n",
       "Name: examide, dtype: int64"
      ]
     },
     "execution_count": 139,
     "metadata": {},
     "output_type": "execute_result"
    }
   ],
   "source": [
    "data3['examide'].value_counts()"
   ]
  },
  {
   "cell_type": "code",
   "execution_count": 140,
   "id": "ff51d37f",
   "metadata": {},
   "outputs": [
    {
     "data": {
      "text/plain": [
       "No    46902\n",
       "Name: citoglipton, dtype: int64"
      ]
     },
     "execution_count": 140,
     "metadata": {},
     "output_type": "execute_result"
    }
   ],
   "source": [
    "data3['citoglipton'].value_counts()"
   ]
  },
  {
   "cell_type": "code",
   "execution_count": 141,
   "id": "477b5567",
   "metadata": {},
   "outputs": [
    {
     "data": {
      "text/plain": [
       "No        20705\n",
       "Steady    13915\n",
       "Down       6450\n",
       "Up         5832\n",
       "Name: insulin, dtype: int64"
      ]
     },
     "execution_count": 141,
     "metadata": {},
     "output_type": "execute_result"
    }
   ],
   "source": [
    "data3['insulin'].value_counts()"
   ]
  },
  {
   "cell_type": "code",
   "execution_count": 142,
   "id": "b87f8f62",
   "metadata": {},
   "outputs": [
    {
     "data": {
      "text/plain": [
       "No        46566\n",
       "Steady      334\n",
       "Down          1\n",
       "Up            1\n",
       "Name: glyburide-metformin, dtype: int64"
      ]
     },
     "execution_count": 142,
     "metadata": {},
     "output_type": "execute_result"
    }
   ],
   "source": [
    "data3['glyburide-metformin'].value_counts()"
   ]
  },
  {
   "cell_type": "code",
   "execution_count": 143,
   "id": "670def1c",
   "metadata": {},
   "outputs": [
    {
     "data": {
      "text/plain": [
       "No        46894\n",
       "Steady        8\n",
       "Name: glipizide-metformin, dtype: int64"
      ]
     },
     "execution_count": 143,
     "metadata": {},
     "output_type": "execute_result"
    }
   ],
   "source": [
    "data3['glipizide-metformin'].value_counts()"
   ]
  },
  {
   "cell_type": "code",
   "execution_count": 144,
   "id": "147611b3",
   "metadata": {},
   "outputs": [
    {
     "data": {
      "text/plain": [
       "No        46901\n",
       "Steady        1\n",
       "Name: glimepiride-pioglitazone, dtype: int64"
      ]
     },
     "execution_count": 144,
     "metadata": {},
     "output_type": "execute_result"
    }
   ],
   "source": [
    "data3['glimepiride-pioglitazone'].value_counts()"
   ]
  },
  {
   "cell_type": "code",
   "execution_count": 145,
   "id": "2a98102a",
   "metadata": {},
   "outputs": [
    {
     "data": {
      "text/plain": [
       "No    46902\n",
       "Name: metformin-rosiglitazone, dtype: int64"
      ]
     },
     "execution_count": 145,
     "metadata": {},
     "output_type": "execute_result"
    }
   ],
   "source": [
    "data3['metformin-rosiglitazone'].value_counts()"
   ]
  },
  {
   "cell_type": "code",
   "execution_count": 146,
   "id": "92b32b6e",
   "metadata": {},
   "outputs": [
    {
     "data": {
      "text/plain": [
       "No    46902\n",
       "Name: metformin-pioglitazone, dtype: int64"
      ]
     },
     "execution_count": 146,
     "metadata": {},
     "output_type": "execute_result"
    }
   ],
   "source": [
    "data3['metformin-pioglitazone'].value_counts()"
   ]
  },
  {
   "cell_type": "code",
   "execution_count": 193,
   "id": "2e51291d",
   "metadata": {},
   "outputs": [
    {
     "name": "stdout",
     "output_type": "stream",
     "text": [
      "            age  gender             race\n",
      "1       [10-20)  Female        Caucasian\n",
      "5       [50-60)    Male        Caucasian\n",
      "7       [70-80)    Male        Caucasian\n",
      "10      [40-50)  Female  AfricanAmerican\n",
      "11      [60-70)    Male  AfricanAmerican\n",
      "...         ...     ...              ...\n",
      "101754  [70-80)  Female        Caucasian\n",
      "101755  [40-50)  Female            Other\n",
      "101756  [60-70)  Female            Other\n",
      "101760  [60-70)  Female  AfricanAmerican\n",
      "101761  [70-80)    Male  AfricanAmerican\n",
      "\n",
      "[46902 rows x 3 columns]\n"
     ]
    }
   ],
   "source": [
    "#Is there a correlation between certain patient characteristics (e.g., race, gender, age and the likelihood of readmission?\n",
    "data2 = pd.read_csv(\"diabetic_data.csv\")\n",
    "cols_list = ['readmitted','age','gender','race']\n",
    "data2 = data2[cols_list]\n",
    "data2.loc[data2['readmitted'] =='>30', 'readmitted'] = \"readmitted\"\n",
    "data2.loc[data2['readmitted'] =='<30', 'readmitted'] = \"readmitted\"\n",
    "data2 = data2[(data2['readmitted'] == 'readmitted')]\n",
    "cols_list = ['age','gender','race']\n",
    "data2 = data2[cols_list]\n",
    "print(data2)"
   ]
  },
  {
   "cell_type": "code",
   "execution_count": 194,
   "id": "f2940901",
   "metadata": {
    "scrolled": true
   },
   "outputs": [
    {
     "data": {
      "text/plain": [
       "[70-80)     12544\n",
       "[60-70)     10399\n",
       "[80-90)      8301\n",
       "[50-60)      7585\n",
       "[40-50)      4305\n",
       "[30-40)      1611\n",
       "[90-100)     1118\n",
       "[20-30)       746\n",
       "[10-20)       264\n",
       "[0-10)         29\n",
       "Name: age, dtype: int64"
      ]
     },
     "execution_count": 194,
     "metadata": {},
     "output_type": "execute_result"
    }
   ],
   "source": [
    "data2['age'].value_counts()"
   ]
  },
  {
   "cell_type": "code",
   "execution_count": 195,
   "id": "b8a133f9",
   "metadata": {},
   "outputs": [
    {
     "data": {
      "text/plain": [
       "Female    25670\n",
       "Male      21232\n",
       "Name: gender, dtype: int64"
      ]
     },
     "execution_count": 195,
     "metadata": {},
     "output_type": "execute_result"
    }
   ],
   "source": [
    "data2['gender'].value_counts()"
   ]
  },
  {
   "cell_type": "code",
   "execution_count": 196,
   "id": "b9837d01",
   "metadata": {},
   "outputs": [
    {
     "data": {
      "text/plain": [
       "Caucasian          35716\n",
       "AfricanAmerican     8789\n",
       "Hispanic             854\n",
       "?                    726\n",
       "Other                591\n",
       "Asian                226\n",
       "Name: race, dtype: int64"
      ]
     },
     "execution_count": 196,
     "metadata": {},
     "output_type": "execute_result"
    }
   ],
   "source": [
    "data2['race'].value_counts()"
   ]
  },
  {
   "cell_type": "code",
   "execution_count": 197,
   "id": "859f40d2",
   "metadata": {},
   "outputs": [
    {
     "data": {
      "text/plain": [
       "1         1\n",
       "5         1\n",
       "7         1\n",
       "10        2\n",
       "11        2\n",
       "         ..\n",
       "101754    1\n",
       "101755    5\n",
       "101756    5\n",
       "101760    2\n",
       "101761    2\n",
       "Name: race, Length: 46902, dtype: int64"
      ]
     },
     "execution_count": 197,
     "metadata": {},
     "output_type": "execute_result"
    }
   ],
   "source": [
    "data2['race'].replace({'Caucasian': 1, 'AfricanAmerican': 2,'Hispanic': 3, '?': 4, 'Other': 5, 'Asian': 6})"
   ]
  },
  {
   "cell_type": "code",
   "execution_count": 198,
   "id": "f4db84db",
   "metadata": {},
   "outputs": [
    {
     "data": {
      "text/plain": [
       "1         2\n",
       "5         6\n",
       "7         8\n",
       "10        5\n",
       "11        7\n",
       "         ..\n",
       "101754    8\n",
       "101755    5\n",
       "101756    7\n",
       "101760    7\n",
       "101761    8\n",
       "Name: age, Length: 46902, dtype: int32"
      ]
     },
     "execution_count": 198,
     "metadata": {},
     "output_type": "execute_result"
    }
   ],
   "source": [
    "data2['age'].replace({'[0-10)': 1, '[10-20)': 2,'[20-30)': 3, '[30-40)': 4, '[40-50)': 5, '[50-60)': 6, '[60-70)': 7, '[70-80)': 8, '[80-90)': 9, '[90-100)': 10 }).astype(int)"
   ]
  },
  {
   "cell_type": "code",
   "execution_count": 211,
   "id": "88c00698",
   "metadata": {},
   "outputs": [
    {
     "ename": "KeyError",
     "evalue": "'gender'",
     "output_type": "error",
     "traceback": [
      "\u001b[1;31m---------------------------------------------------------------------------\u001b[0m",
      "\u001b[1;31mKeyError\u001b[0m                                  Traceback (most recent call last)",
      "File \u001b[1;32m~\\anaconda3\\lib\\site-packages\\pandas\\core\\indexes\\base.py:3621\u001b[0m, in \u001b[0;36mIndex.get_loc\u001b[1;34m(self, key, method, tolerance)\u001b[0m\n\u001b[0;32m   3620\u001b[0m \u001b[38;5;28;01mtry\u001b[39;00m:\n\u001b[1;32m-> 3621\u001b[0m     \u001b[38;5;28;01mreturn\u001b[39;00m \u001b[38;5;28;43mself\u001b[39;49m\u001b[38;5;241;43m.\u001b[39;49m\u001b[43m_engine\u001b[49m\u001b[38;5;241;43m.\u001b[39;49m\u001b[43mget_loc\u001b[49m\u001b[43m(\u001b[49m\u001b[43mcasted_key\u001b[49m\u001b[43m)\u001b[49m\n\u001b[0;32m   3622\u001b[0m \u001b[38;5;28;01mexcept\u001b[39;00m \u001b[38;5;167;01mKeyError\u001b[39;00m \u001b[38;5;28;01mas\u001b[39;00m err:\n",
      "File \u001b[1;32m~\\anaconda3\\lib\\site-packages\\pandas\\_libs\\index.pyx:136\u001b[0m, in \u001b[0;36mpandas._libs.index.IndexEngine.get_loc\u001b[1;34m()\u001b[0m\n",
      "File \u001b[1;32m~\\anaconda3\\lib\\site-packages\\pandas\\_libs\\index.pyx:163\u001b[0m, in \u001b[0;36mpandas._libs.index.IndexEngine.get_loc\u001b[1;34m()\u001b[0m\n",
      "File \u001b[1;32mpandas\\_libs\\hashtable_class_helper.pxi:5198\u001b[0m, in \u001b[0;36mpandas._libs.hashtable.PyObjectHashTable.get_item\u001b[1;34m()\u001b[0m\n",
      "File \u001b[1;32mpandas\\_libs\\hashtable_class_helper.pxi:5206\u001b[0m, in \u001b[0;36mpandas._libs.hashtable.PyObjectHashTable.get_item\u001b[1;34m()\u001b[0m\n",
      "\u001b[1;31mKeyError\u001b[0m: 'gender'",
      "\nThe above exception was the direct cause of the following exception:\n",
      "\u001b[1;31mKeyError\u001b[0m                                  Traceback (most recent call last)",
      "Input \u001b[1;32mIn [211]\u001b[0m, in \u001b[0;36m<cell line: 1>\u001b[1;34m()\u001b[0m\n\u001b[1;32m----> 1\u001b[0m \u001b[43mdata2\u001b[49m\u001b[43m[\u001b[49m\u001b[38;5;124;43m'\u001b[39;49m\u001b[38;5;124;43mgender\u001b[39;49m\u001b[38;5;124;43m'\u001b[39;49m\u001b[43m]\u001b[49m\n\u001b[0;32m      2\u001b[0m data2[\u001b[38;5;124m'\u001b[39m\u001b[38;5;124mgender\u001b[39m\u001b[38;5;124m'\u001b[39m]\u001b[38;5;241m.\u001b[39mreplace({\u001b[38;5;124m'\u001b[39m\u001b[38;5;124mFemale\u001b[39m\u001b[38;5;124m'\u001b[39m: \u001b[38;5;241m1\u001b[39m, \u001b[38;5;124m'\u001b[39m\u001b[38;5;124mMale\u001b[39m\u001b[38;5;124m'\u001b[39m: \u001b[38;5;241m2\u001b[39m}, inplace \u001b[38;5;241m=\u001b[39m \u001b[38;5;28;01mTrue\u001b[39;00m)\n",
      "File \u001b[1;32m~\\anaconda3\\lib\\site-packages\\pandas\\core\\frame.py:3505\u001b[0m, in \u001b[0;36mDataFrame.__getitem__\u001b[1;34m(self, key)\u001b[0m\n\u001b[0;32m   3503\u001b[0m \u001b[38;5;28;01mif\u001b[39;00m \u001b[38;5;28mself\u001b[39m\u001b[38;5;241m.\u001b[39mcolumns\u001b[38;5;241m.\u001b[39mnlevels \u001b[38;5;241m>\u001b[39m \u001b[38;5;241m1\u001b[39m:\n\u001b[0;32m   3504\u001b[0m     \u001b[38;5;28;01mreturn\u001b[39;00m \u001b[38;5;28mself\u001b[39m\u001b[38;5;241m.\u001b[39m_getitem_multilevel(key)\n\u001b[1;32m-> 3505\u001b[0m indexer \u001b[38;5;241m=\u001b[39m \u001b[38;5;28;43mself\u001b[39;49m\u001b[38;5;241;43m.\u001b[39;49m\u001b[43mcolumns\u001b[49m\u001b[38;5;241;43m.\u001b[39;49m\u001b[43mget_loc\u001b[49m\u001b[43m(\u001b[49m\u001b[43mkey\u001b[49m\u001b[43m)\u001b[49m\n\u001b[0;32m   3506\u001b[0m \u001b[38;5;28;01mif\u001b[39;00m is_integer(indexer):\n\u001b[0;32m   3507\u001b[0m     indexer \u001b[38;5;241m=\u001b[39m [indexer]\n",
      "File \u001b[1;32m~\\anaconda3\\lib\\site-packages\\pandas\\core\\indexes\\base.py:3623\u001b[0m, in \u001b[0;36mIndex.get_loc\u001b[1;34m(self, key, method, tolerance)\u001b[0m\n\u001b[0;32m   3621\u001b[0m     \u001b[38;5;28;01mreturn\u001b[39;00m \u001b[38;5;28mself\u001b[39m\u001b[38;5;241m.\u001b[39m_engine\u001b[38;5;241m.\u001b[39mget_loc(casted_key)\n\u001b[0;32m   3622\u001b[0m \u001b[38;5;28;01mexcept\u001b[39;00m \u001b[38;5;167;01mKeyError\u001b[39;00m \u001b[38;5;28;01mas\u001b[39;00m err:\n\u001b[1;32m-> 3623\u001b[0m     \u001b[38;5;28;01mraise\u001b[39;00m \u001b[38;5;167;01mKeyError\u001b[39;00m(key) \u001b[38;5;28;01mfrom\u001b[39;00m \u001b[38;5;21;01merr\u001b[39;00m\n\u001b[0;32m   3624\u001b[0m \u001b[38;5;28;01mexcept\u001b[39;00m \u001b[38;5;167;01mTypeError\u001b[39;00m:\n\u001b[0;32m   3625\u001b[0m     \u001b[38;5;66;03m# If we have a listlike key, _check_indexing_error will raise\u001b[39;00m\n\u001b[0;32m   3626\u001b[0m     \u001b[38;5;66;03m#  InvalidIndexError. Otherwise we fall through and re-raise\u001b[39;00m\n\u001b[0;32m   3627\u001b[0m     \u001b[38;5;66;03m#  the TypeError.\u001b[39;00m\n\u001b[0;32m   3628\u001b[0m     \u001b[38;5;28mself\u001b[39m\u001b[38;5;241m.\u001b[39m_check_indexing_error(key)\n",
      "\u001b[1;31mKeyError\u001b[0m: 'gender'"
     ]
    }
   ],
   "source": [
    "data2['gender']\n",
    "data2['gender'].replace({'Female': 1, 'Male': 2}).astype(int)"
   ]
  },
  {
   "cell_type": "code",
   "execution_count": 201,
   "id": "57daec87",
   "metadata": {},
   "outputs": [
    {
     "name": "stdout",
     "output_type": "stream",
     "text": [
      "Empty DataFrame\n",
      "Columns: []\n",
      "Index: []\n"
     ]
    }
   ],
   "source": [
    "corr=data2.corr()\n",
    "print(corr)"
   ]
  },
  {
   "cell_type": "code",
   "execution_count": 202,
   "id": "721a60a0",
   "metadata": {},
   "outputs": [
    {
     "data": {
      "text/plain": [
       "?                                   23997\n",
       "InternalMedicine                     6369\n",
       "Emergency/Trauma                     3852\n",
       "Family/GeneralPractice               3546\n",
       "Cardiology                           2278\n",
       "                                    ...  \n",
       "SportsMedicine                          1\n",
       "Pediatrics-EmergencyMedicine            1\n",
       "Pediatrics-Hematology-Oncology          1\n",
       "Surgery-PlasticwithinHeadandNeck        1\n",
       "DCPTEAM                                 1\n",
       "Name: medical_specialty, Length: 68, dtype: int64"
      ]
     },
     "execution_count": 202,
     "metadata": {},
     "output_type": "execute_result"
    }
   ],
   "source": [
    "#Which “medical_specialty” is most often associated with readmitted patients??\n",
    "data2 = pd.read_csv(\"diabetic_data.csv\")\n",
    "cols_list = ['readmitted','medical_specialty']\n",
    "data2 = data2[cols_list]\n",
    "data2.loc[data2['readmitted'] =='>30', 'readmitted'] = \"readmitted\"\n",
    "data2.loc[data2['readmitted'] =='<30', 'readmitted'] = \"readmitted\"\n",
    "data2 = data2[(data2['readmitted'] == 'readmitted')]\n",
    "data2['medical_specialty'].value_counts()"
   ]
  },
  {
   "cell_type": "code",
   "execution_count": 212,
   "id": "8d3000ad",
   "metadata": {},
   "outputs": [
    {
     "name": "stdout",
     "output_type": "stream",
     "text": [
      "                    readmitted  num_lab_procedures\n",
      "readmitted            1.000000           -0.037976\n",
      "num_lab_procedures   -0.037976            1.000000\n"
     ]
    }
   ],
   "source": [
    "#What is the correlation of “num_lab_procedures” with the readmission rates?\n",
    "data2 = pd.read_csv(\"diabetic_data.csv\")\n",
    "cols_list = ['readmitted','num_lab_procedures']\n",
    "data2 = data2[cols_list]\n",
    "data2['readmitted']\n",
    "data2['readmitted'].replace({'<30': 1, '>30': 2, 'NO':3}, inplace = True)\n",
    "data2['readmitted'].value_counts()\n",
    "corr = data2.corr()\n",
    "print(corr)"
   ]
  },
  {
   "cell_type": "code",
   "execution_count": 42,
   "id": "ed0c3e7f",
   "metadata": {},
   "outputs": [
    {
     "name": "stdout",
     "output_type": "stream",
     "text": [
      "None    84748\n",
      ">8       8216\n",
      "Norm     4990\n",
      ">7       3812\n",
      "Name: A1Cresult, dtype: int64\n"
     ]
    }
   ],
   "source": [
    "#Hypothesis-1: A1Cresult is an important factor\n",
    "data_A1Cresult = data['A1Cresult'].value_counts()\n",
    "print(data_A1Cresult)"
   ]
  },
  {
   "cell_type": "code",
   "execution_count": 230,
   "id": "9e1518d5",
   "metadata": {},
   "outputs": [
    {
     "name": "stdout",
     "output_type": "stream",
     "text": [
      "                    readmitted  A1Cresult  num_lab_procedures\n",
      "readmitted            1.000000   0.024405           -0.037976\n",
      "A1Cresult             0.024405   1.000000            0.223698\n",
      "num_lab_procedures   -0.037976   0.223698            1.000000\n"
     ]
    }
   ],
   "source": [
    "data2 = pd.read_csv(\"diabetic_data.csv\")\n",
    "cols_list = ['readmitted','A1Cresult','num_lab_procedures']\n",
    "data2 = data2[cols_list]\n",
    "data2['readmitted'].replace({'<30': 1, '>30': 2, 'NO':3}, inplace = True)\n",
    "data2['A1Cresult'].replace({'None': 1, '>8': 2, '>7': 3, 'Norm':4}, inplace = True)\n",
    "data2['readmitted'].value_counts()\n",
    "#data2.drop(data2[(data2['A1Cresult'] == '1')], axis = 0)\n",
    "corr = data2.corr()\n",
    "print(corr)"
   ]
  },
  {
   "cell_type": "code",
   "execution_count": 233,
   "id": "e8dccbe4",
   "metadata": {},
   "outputs": [
    {
     "name": "stdout",
     "output_type": "stream",
     "text": [
      "                    readmitted  A1Cresult  num_lab_procedures\n",
      "readmitted            1.000000   0.023036           -0.048005\n",
      "A1Cresult             0.023036   1.000000           -0.021726\n",
      "num_lab_procedures   -0.048005  -0.021726            1.000000\n"
     ]
    }
   ],
   "source": [
    "data_filter1 = data2[(data2['A1Cresult'] != 1 )]\n",
    "print(data_filter1.corr())"
   ]
  },
  {
   "cell_type": "code",
   "execution_count": 214,
   "id": "a545fe03",
   "metadata": {},
   "outputs": [
    {
     "name": "stdout",
     "output_type": "stream",
     "text": [
      "       encounter_id  patient_nbr             race  gender      age  \\\n",
      "114         1810752      6915888        Caucasian    Male  [70-80)   \n",
      "783         6094530    106656858  AfricanAmerican  Female  [40-50)   \n",
      "4158       24131616     23935167            Other    Male  [60-70)   \n",
      "4300       24529980      2107602  AfricanAmerican  Female  [60-70)   \n",
      "5018       27003558     60086349  AfricanAmerican  Female  [40-50)   \n",
      "...             ...          ...              ...     ...      ...   \n",
      "96031     369705956    139600085        Caucasian  Female  [80-90)   \n",
      "96078     370756376    141289808        Caucasian    Male  [50-60)   \n",
      "98102     396649862    147593579        Caucasian  Female  [70-80)   \n",
      "98281     399001616     43785333        Caucasian    Male  [80-90)   \n",
      "98870     406654514     94871934        Caucasian  Female  [60-70)   \n",
      "\n",
      "       admission_type_id  discharge_disposition_id  admission_source_id  \\\n",
      "114                    1                         3                    7   \n",
      "783                    1                         3                    7   \n",
      "4158                   2                         6                   17   \n",
      "4300                   1                         1                    7   \n",
      "5018                   1                         6                    7   \n",
      "...                  ...                       ...                  ...   \n",
      "96031                  2                        22                    7   \n",
      "96078                  3                         5                   22   \n",
      "98102                  1                        22                    7   \n",
      "98281                  1                         3                    7   \n",
      "98870                  2                         3                    7   \n",
      "\n",
      "       time_in_hospital medical_specialty  ...  insulin  glyburide-metformin  \\\n",
      "114                  14        Cardiology  ...       Up                   No   \n",
      "783                  12           Unknown  ...       Up                   No   \n",
      "4158                 12   Surgery-General  ...       Up                   No   \n",
      "4300                 11           Unknown  ...       Up                   No   \n",
      "5018                 11           Unknown  ...       Up                   No   \n",
      "...                 ...               ...  ...      ...                  ...   \n",
      "96031                12  Emergency/Trauma  ...       Up                   No   \n",
      "96078                14           Unknown  ...       Up               Steady   \n",
      "98102                14           Unknown  ...       Up                   No   \n",
      "98281                11           Unknown  ...       Up                   No   \n",
      "98870                11  Emergency/Trauma  ...       Up                   No   \n",
      "\n",
      "       glipizide-metformin  glimepiride-pioglitazone  metformin-rosiglitazone  \\\n",
      "114                     No                        No                       No   \n",
      "783                     No                        No                       No   \n",
      "4158                    No                        No                       No   \n",
      "4300                    No                        No                       No   \n",
      "5018                    No                        No                       No   \n",
      "...                    ...                       ...                      ...   \n",
      "96031                   No                        No                       No   \n",
      "96078                   No                        No                       No   \n",
      "98102                   No                        No                       No   \n",
      "98281                   No                        No                       No   \n",
      "98870                   No                        No                       No   \n",
      "\n",
      "       metformin-pioglitazone change diabetesMed readmitted  Letters  \n",
      "114                        No     Ch         Yes        <30      NaN  \n",
      "783                        No     Ch         Yes        <30  Unknown  \n",
      "4158                       No     Ch         Yes        <30      NaN  \n",
      "4300                       No     Ch         Yes        <30  Unknown  \n",
      "5018                       No     Ch         Yes        <30  Unknown  \n",
      "...                       ...    ...         ...        ...      ...  \n",
      "96031                      No     Ch         Yes        <30      NaN  \n",
      "96078                      No     Ch         Yes        <30  Unknown  \n",
      "98102                      No     Ch         Yes        <30  Unknown  \n",
      "98281                      No     Ch         Yes        <30  Unknown  \n",
      "98870                      No     Ch         Yes        <30      NaN  \n",
      "\n",
      "[127 rows x 49 columns]\n"
     ]
    }
   ],
   "source": [
    "#Filtering Data\n",
    "#data_filter1 = data[(data['num_lab_procedures'] > 60) & (data['time_in_hospital'] > 10) & (data['insulin'] == 'Up') & (data['readmitted'] == '<30')]\n",
    "data_filter1 = data[(data['time_in_hospital'] > 10) & (data['insulin'] == 'Up') & (data['readmitted'] == '<30')]\n",
    "print(data_filter1)"
   ]
  },
  {
   "cell_type": "code",
   "execution_count": 38,
   "id": "49371aa0",
   "metadata": {},
   "outputs": [
    {
     "data": {
      "text/plain": [
       "None    100\n",
       ">8       19\n",
       "Norm      5\n",
       ">7        3\n",
       "Name: A1Cresult, dtype: int64"
      ]
     },
     "execution_count": 38,
     "metadata": {},
     "output_type": "execute_result"
    }
   ],
   "source": [
    "data_filter1['A1Cresult'].value_counts()"
   ]
  }
 ],
 "metadata": {
  "kernelspec": {
   "display_name": "Python 3 (ipykernel)",
   "language": "python",
   "name": "python3"
  },
  "language_info": {
   "codemirror_mode": {
    "name": "ipython",
    "version": 3
   },
   "file_extension": ".py",
   "mimetype": "text/x-python",
   "name": "python",
   "nbconvert_exporter": "python",
   "pygments_lexer": "ipython3",
   "version": "3.9.12"
  }
 },
 "nbformat": 4,
 "nbformat_minor": 5
}
